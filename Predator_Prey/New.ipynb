{
 "cells": [
  {
   "cell_type": "markdown",
   "metadata": {},
   "source": [
    "* $Pcl=0.9$\n",
    "* $Prc=0.1$\n",
    "* $Prl=0.8$\n",
    "* $Pml=0.08$\n",
    "* $f$ := función de probabilidad."
   ]
  },
  {
   "cell_type": "markdown",
   "metadata": {},
   "source": [
    "\\begin{equation}\n",
    "    \\tilde{\\rho}^{x_i,y_j,t_k}_c = \\rho_c(x_i, y_j, t_k) \\Delta x \\Delta y\n",
    "\\end{equation}"
   ]
  },
  {
   "cell_type": "markdown",
   "metadata": {},
   "source": [
    "\\begin{equation}\n",
    "    L_{I+1} = (L_I-L_IPml)f(L_i, n)Pcl\\cdot C_I \\cdot Prl + C_I-L_I\\cdot Pml\n",
    "\\end{equation}\n",
    "\n",
    "\\begin{equation}\n",
    "    C_{I+1} = (C_I-f(C_i, n)\\cdot Pcl \\cdot C_I)\\cdot 1.1\n",
    "\\end{equation}"
   ]
  },
  {
   "cell_type": "code",
   "execution_count": null,
   "metadata": {
    "collapsed": true
   },
   "outputs": [],
   "source": []
  },
  {
   "cell_type": "code",
   "execution_count": null,
   "metadata": {
    "collapsed": true
   },
   "outputs": [],
   "source": []
  }
 ],
 "metadata": {
  "kernelspec": {
   "display_name": "Python 3",
   "language": "python",
   "name": "python3"
  },
  "language_info": {
   "codemirror_mode": {
    "name": "ipython",
    "version": 3
   },
   "file_extension": ".py",
   "mimetype": "text/x-python",
   "name": "python",
   "nbconvert_exporter": "python",
   "pygments_lexer": "ipython3",
   "version": "3.6.2"
  }
 },
 "nbformat": 4,
 "nbformat_minor": 2
}
